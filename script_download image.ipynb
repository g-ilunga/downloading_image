{
 "cells": [
  {
   "cell_type": "markdown",
   "metadata": {},
   "source": [
    "The purpose of this script is to automate the download of images found on this website: https://www.fao.org/giews/earthobservation/country/index.jsp?lang=en&type=22&code=SWZ\n",
    "\n",
    "For the purpose of this script, we will be working with monthly data"
   ]
  },
  {
   "cell_type": "code",
   "execution_count": 1,
   "metadata": {},
   "outputs": [],
   "source": [
    "# Importing relevant library\n",
    "\n",
    "import shutil #offers a number of high-level operations on files and collections of files such as copying or moving\n",
    "\n",
    "import requests #  allows to send HTTP requests using Python"
   ]
  },
  {
   "cell_type": "code",
   "execution_count": 13,
   "metadata": {},
   "outputs": [],
   "source": [
    "# Creating variables to be used in the processing. \n",
    "# The variables we create are based on the observation we made from the images URL\n",
    "# Below are URL examples of two images: \n",
    "            # \"https://www.fao.org/giews/earthobservation/asis/data/country/SWZ/MAP_NDVI_ANOMALY/HR/om2310c.png\" \n",
    "            # \"https://www.fao.org/giews/earthobservation/asis/data/country/SWZ/MAP_NDVI_ANOMALY/HR/om2309c.png\"\n",
    "# The images URL on the wesite are the same except for the last numbers representing the years and the months\n",
    "# We then create a variable called base_url the part of the url that is common for all the images\n",
    "base_url = \"https://www.fao.org/giews/earthobservation/asis/data/country/SWZ/MAP_NDVI_ANOMALY/HR/\"\n",
    "\n",
    "\n",
    "# Each image url has numbers to represent years. We create a list with the desired years: 2020, 2021, 2022\n",
    "list_years = [\"20\", \"21\", \"22\"]\n",
    "\n",
    "# Each image url has numbers to represent months. We create a list with the desired month\n",
    "list_months = [\"01\",\"02\",\"03\",\"04\",\"05\",\"06\",\"07\",\"08\",\"09\",\"10\",\"11\",\"12\"]\n",
    "\n",
    "# This is the path where the downloaded image will be save\n",
    "path = \"C:/Users/userpc/download/\""
   ]
  },
  {
   "cell_type": "code",
   "execution_count": 14,
   "metadata": {},
   "outputs": [
    {
     "name": "stdout",
     "output_type": "stream",
     "text": [
      "Image sucessfully Downloaded:  C:/Users/gilunga/INGEROP/PRO-ACT-unon_climate-scenarios-cra_eswatini - General/3.Travail/Task 3 - CRA/VCI data/om2001c.png\n",
      "Image sucessfully Downloaded:  C:/Users/gilunga/INGEROP/PRO-ACT-unon_climate-scenarios-cra_eswatini - General/3.Travail/Task 3 - CRA/VCI data/om2002c.png\n",
      "Image sucessfully Downloaded:  C:/Users/gilunga/INGEROP/PRO-ACT-unon_climate-scenarios-cra_eswatini - General/3.Travail/Task 3 - CRA/VCI data/om2003c.png\n",
      "Image sucessfully Downloaded:  C:/Users/gilunga/INGEROP/PRO-ACT-unon_climate-scenarios-cra_eswatini - General/3.Travail/Task 3 - CRA/VCI data/om2004c.png\n",
      "Image sucessfully Downloaded:  C:/Users/gilunga/INGEROP/PRO-ACT-unon_climate-scenarios-cra_eswatini - General/3.Travail/Task 3 - CRA/VCI data/om2005c.png\n",
      "Image sucessfully Downloaded:  C:/Users/gilunga/INGEROP/PRO-ACT-unon_climate-scenarios-cra_eswatini - General/3.Travail/Task 3 - CRA/VCI data/om2006c.png\n",
      "Image sucessfully Downloaded:  C:/Users/gilunga/INGEROP/PRO-ACT-unon_climate-scenarios-cra_eswatini - General/3.Travail/Task 3 - CRA/VCI data/om2007c.png\n",
      "Image sucessfully Downloaded:  C:/Users/gilunga/INGEROP/PRO-ACT-unon_climate-scenarios-cra_eswatini - General/3.Travail/Task 3 - CRA/VCI data/om2008c.png\n",
      "Image sucessfully Downloaded:  C:/Users/gilunga/INGEROP/PRO-ACT-unon_climate-scenarios-cra_eswatini - General/3.Travail/Task 3 - CRA/VCI data/om2009c.png\n",
      "Image sucessfully Downloaded:  C:/Users/gilunga/INGEROP/PRO-ACT-unon_climate-scenarios-cra_eswatini - General/3.Travail/Task 3 - CRA/VCI data/om2010c.png\n",
      "Image sucessfully Downloaded:  C:/Users/gilunga/INGEROP/PRO-ACT-unon_climate-scenarios-cra_eswatini - General/3.Travail/Task 3 - CRA/VCI data/om2011c.png\n",
      "Image sucessfully Downloaded:  C:/Users/gilunga/INGEROP/PRO-ACT-unon_climate-scenarios-cra_eswatini - General/3.Travail/Task 3 - CRA/VCI data/om2012c.png\n",
      "Image sucessfully Downloaded:  C:/Users/gilunga/INGEROP/PRO-ACT-unon_climate-scenarios-cra_eswatini - General/3.Travail/Task 3 - CRA/VCI data/om2101c.png\n",
      "Image sucessfully Downloaded:  C:/Users/gilunga/INGEROP/PRO-ACT-unon_climate-scenarios-cra_eswatini - General/3.Travail/Task 3 - CRA/VCI data/om2102c.png\n",
      "Image sucessfully Downloaded:  C:/Users/gilunga/INGEROP/PRO-ACT-unon_climate-scenarios-cra_eswatini - General/3.Travail/Task 3 - CRA/VCI data/om2103c.png\n",
      "Image sucessfully Downloaded:  C:/Users/gilunga/INGEROP/PRO-ACT-unon_climate-scenarios-cra_eswatini - General/3.Travail/Task 3 - CRA/VCI data/om2104c.png\n",
      "Image sucessfully Downloaded:  C:/Users/gilunga/INGEROP/PRO-ACT-unon_climate-scenarios-cra_eswatini - General/3.Travail/Task 3 - CRA/VCI data/om2105c.png\n",
      "Image sucessfully Downloaded:  C:/Users/gilunga/INGEROP/PRO-ACT-unon_climate-scenarios-cra_eswatini - General/3.Travail/Task 3 - CRA/VCI data/om2106c.png\n",
      "Image sucessfully Downloaded:  C:/Users/gilunga/INGEROP/PRO-ACT-unon_climate-scenarios-cra_eswatini - General/3.Travail/Task 3 - CRA/VCI data/om2107c.png\n",
      "Image sucessfully Downloaded:  C:/Users/gilunga/INGEROP/PRO-ACT-unon_climate-scenarios-cra_eswatini - General/3.Travail/Task 3 - CRA/VCI data/om2108c.png\n",
      "Image sucessfully Downloaded:  C:/Users/gilunga/INGEROP/PRO-ACT-unon_climate-scenarios-cra_eswatini - General/3.Travail/Task 3 - CRA/VCI data/om2109c.png\n",
      "Image sucessfully Downloaded:  C:/Users/gilunga/INGEROP/PRO-ACT-unon_climate-scenarios-cra_eswatini - General/3.Travail/Task 3 - CRA/VCI data/om2110c.png\n",
      "Image sucessfully Downloaded:  C:/Users/gilunga/INGEROP/PRO-ACT-unon_climate-scenarios-cra_eswatini - General/3.Travail/Task 3 - CRA/VCI data/om2111c.png\n",
      "Image sucessfully Downloaded:  C:/Users/gilunga/INGEROP/PRO-ACT-unon_climate-scenarios-cra_eswatini - General/3.Travail/Task 3 - CRA/VCI data/om2112c.png\n",
      "Image sucessfully Downloaded:  C:/Users/gilunga/INGEROP/PRO-ACT-unon_climate-scenarios-cra_eswatini - General/3.Travail/Task 3 - CRA/VCI data/om2201c.png\n",
      "Image sucessfully Downloaded:  C:/Users/gilunga/INGEROP/PRO-ACT-unon_climate-scenarios-cra_eswatini - General/3.Travail/Task 3 - CRA/VCI data/om2202c.png\n",
      "Image sucessfully Downloaded:  C:/Users/gilunga/INGEROP/PRO-ACT-unon_climate-scenarios-cra_eswatini - General/3.Travail/Task 3 - CRA/VCI data/om2203c.png\n",
      "Image sucessfully Downloaded:  C:/Users/gilunga/INGEROP/PRO-ACT-unon_climate-scenarios-cra_eswatini - General/3.Travail/Task 3 - CRA/VCI data/om2204c.png\n",
      "Image sucessfully Downloaded:  C:/Users/gilunga/INGEROP/PRO-ACT-unon_climate-scenarios-cra_eswatini - General/3.Travail/Task 3 - CRA/VCI data/om2205c.png\n",
      "Image sucessfully Downloaded:  C:/Users/gilunga/INGEROP/PRO-ACT-unon_climate-scenarios-cra_eswatini - General/3.Travail/Task 3 - CRA/VCI data/om2206c.png\n",
      "Image sucessfully Downloaded:  C:/Users/gilunga/INGEROP/PRO-ACT-unon_climate-scenarios-cra_eswatini - General/3.Travail/Task 3 - CRA/VCI data/om2207c.png\n",
      "Image sucessfully Downloaded:  C:/Users/gilunga/INGEROP/PRO-ACT-unon_climate-scenarios-cra_eswatini - General/3.Travail/Task 3 - CRA/VCI data/om2208c.png\n",
      "Image sucessfully Downloaded:  C:/Users/gilunga/INGEROP/PRO-ACT-unon_climate-scenarios-cra_eswatini - General/3.Travail/Task 3 - CRA/VCI data/om2209c.png\n",
      "Image sucessfully Downloaded:  C:/Users/gilunga/INGEROP/PRO-ACT-unon_climate-scenarios-cra_eswatini - General/3.Travail/Task 3 - CRA/VCI data/om2210c.png\n",
      "Image sucessfully Downloaded:  C:/Users/gilunga/INGEROP/PRO-ACT-unon_climate-scenarios-cra_eswatini - General/3.Travail/Task 3 - CRA/VCI data/om2211c.png\n",
      "Image sucessfully Downloaded:  C:/Users/gilunga/INGEROP/PRO-ACT-unon_climate-scenarios-cra_eswatini - General/3.Travail/Task 3 - CRA/VCI data/om2212c.png\n"
     ]
    }
   ],
   "source": [
    "# We are creating a loop that will download and save the images\n",
    "\n",
    "for year in list_years:\n",
    "\n",
    "    for month in list_months:\n",
    "\n",
    "        url = base_url + \"om\" + year + month + \"c.png\" # This is the url that will be used to download the image\n",
    "\n",
    "        filename = path + \"om\" + year + month + \"c.png\" # This is the name and the location where the file will be saved\n",
    "\n",
    "        # The download and saving starts here\n",
    "        \n",
    "        res = requests.get(url, stream = True)\n",
    "\n",
    "        if res.status_code == 200:\n",
    "    \n",
    "            with open(filename,'wb') as f:\n",
    "        \n",
    "                shutil.copyfileobj(res.raw, f)\n",
    "           \n",
    "            print('Image sucessfully Downloaded: ',filename)\n",
    "        \n",
    "        else:\n",
    "    \n",
    "            print('Image Couldn\\'t be retrieved')"
   ]
  }
 ],
 "metadata": {
  "kernelspec": {
   "display_name": "python39",
   "language": "python",
   "name": "python3"
  },
  "language_info": {
   "codemirror_mode": {
    "name": "ipython",
    "version": 3
   },
   "file_extension": ".py",
   "mimetype": "text/x-python",
   "name": "python",
   "nbconvert_exporter": "python",
   "pygments_lexer": "ipython3",
   "version": "3.9.12"
  },
  "orig_nbformat": 4
 },
 "nbformat": 4,
 "nbformat_minor": 2
}
